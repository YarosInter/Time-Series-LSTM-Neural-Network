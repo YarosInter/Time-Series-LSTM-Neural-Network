{
 "cells": [
  {
   "cell_type": "markdown",
   "id": "c40d4b26-0549-41fe-b5c7-c90cb73d98d6",
   "metadata": {},
   "source": [
    "# Time Series LSTM Algorithm\n",
    "\n",
    "This algorithm is used to forecast FOREX prices for the USDJPY pair. It fetches data from MetaTrader5 and applies feature engineering to create additional data.\n",
    "\n",
    "The forecasted values are set to:\n",
    "- **Position 1** if the prediction indicates that the price will go up in the next hour\n",
    "- **Position 0** if the prediction indicates that the price will go down in the nex hourx hour"
   ]
  },
  {
   "cell_type": "code",
   "execution_count": 6,
   "id": "0966111b-3879-4fd2-9fac-dfa8165914da",
   "metadata": {},
   "outputs": [],
   "source": [
    "import pandas as pd\n",
    "import numpy as np\n",
    "import MetaTrader5 as mt5\n",
    "import ta\n",
    "import matplotlib.pyplot as plt\n",
    "plt.style.use(\"seaborn-v0_8-darkgrid\")\n",
    "from datetime import datetime\n",
    "import warnings\n",
    "warnings.filterwarnings(\"ignore\")\n",
    "from UsefulFunctions import data, backtest, display"
   ]
  },
  {
   "cell_type": "code",
   "execution_count": null,
   "id": "2399335a-ca6e-49b6-9ac2-f4a951d9638c",
   "metadata": {},
   "outputs": [],
   "source": []
  }
 ],
 "metadata": {
  "kernelspec": {
   "display_name": "Python 3 (ipykernel)",
   "language": "python",
   "name": "python3"
  },
  "language_info": {
   "codemirror_mode": {
    "name": "ipython",
    "version": 3
   },
   "file_extension": ".py",
   "mimetype": "text/x-python",
   "name": "python",
   "nbconvert_exporter": "python",
   "pygments_lexer": "ipython3",
   "version": "3.12.4"
  }
 },
 "nbformat": 4,
 "nbformat_minor": 5
}
