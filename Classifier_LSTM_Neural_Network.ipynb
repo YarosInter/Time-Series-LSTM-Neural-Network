{
 "cells": [
  {
   "cell_type": "markdown",
   "id": "c40d4b26-0549-41fe-b5c7-c90cb73d98d6",
   "metadata": {},
   "source": [
    "# Time Series LSTM Algorithm\n",
    "\n",
    "This algorithm is used to forecast FOREX prices for the USDJPY pair. It fetches data from MetaTrader5 and applies feature engineering to create additional data.\n",
    "\n",
    "The forecasted values are set to:\n",
    "- **Position 1** if the prediction indicates that the price will go up in the next hour\n",
    "- **Position 0** if the prediction indicates that the price will go down in the nex hourx hour"
   ]
  },
  {
   "cell_type": "code",
   "execution_count": 2,
   "id": "0966111b-3879-4fd2-9fac-dfa8165914da",
   "metadata": {},
   "outputs": [],
   "source": [
    "import pandas as pd\n",
    "import numpy as np\n",
    "import MetaTrader5 as mt5\n",
    "import ta\n",
    "import matplotlib.pyplot as plt\n",
    "plt.style.use(\"seaborn-v0_8-darkgrid\")\n",
    "from datetime import datetime\n",
    "import warnings\n",
    "warnings.filterwarnings(\"ignore\")\n",
    "from UsefulFunctions import data, backtest, display"
   ]
  },
  {
   "cell_type": "markdown",
   "id": "3814048a-9a73-4097-aac4-94d8f4c52df2",
   "metadata": {},
   "source": [
    "**Initiate bound between MetaTrader5 and Python**"
   ]
  },
  {
   "cell_type": "code",
   "execution_count": 4,
   "id": "19f94e37-fe76-4681-a520-19e405772b2a",
   "metadata": {},
   "outputs": [
    {
     "data": {
      "text/plain": [
       "True"
      ]
     },
     "execution_count": 4,
     "metadata": {},
     "output_type": "execute_result"
    }
   ],
   "source": [
    "# To be able to connect to MetaTrader5 you need to be already logged in with your trading account\n",
    "mt5.initialize()"
   ]
  },
  {
   "cell_type": "code",
   "execution_count": 5,
   "id": "67bbe237-4825-4908-ad52-733743cda80e",
   "metadata": {},
   "outputs": [
    {
     "data": {
      "text/html": [
       "<div>\n",
       "<style scoped>\n",
       "    .dataframe tbody tr th:only-of-type {\n",
       "        vertical-align: middle;\n",
       "    }\n",
       "\n",
       "    .dataframe tbody tr th {\n",
       "        vertical-align: top;\n",
       "    }\n",
       "\n",
       "    .dataframe thead th {\n",
       "        text-align: right;\n",
       "    }\n",
       "</style>\n",
       "<table border=\"1\" class=\"dataframe\">\n",
       "  <thead>\n",
       "    <tr style=\"text-align: right;\">\n",
       "      <th></th>\n",
       "      <th>open</th>\n",
       "      <th>high</th>\n",
       "      <th>low</th>\n",
       "      <th>close</th>\n",
       "      <th>tick_volume</th>\n",
       "      <th>spread</th>\n",
       "      <th>real_volume</th>\n",
       "    </tr>\n",
       "    <tr>\n",
       "      <th>time</th>\n",
       "      <th></th>\n",
       "      <th></th>\n",
       "      <th></th>\n",
       "      <th></th>\n",
       "      <th></th>\n",
       "      <th></th>\n",
       "      <th></th>\n",
       "    </tr>\n",
       "  </thead>\n",
       "  <tbody>\n",
       "    <tr>\n",
       "      <th>2015-01-02 08:00:00</th>\n",
       "      <td>120.42</td>\n",
       "      <td>120.44</td>\n",
       "      <td>120.33</td>\n",
       "      <td>120.39</td>\n",
       "      <td>262</td>\n",
       "      <td>30</td>\n",
       "      <td>0</td>\n",
       "    </tr>\n",
       "    <tr>\n",
       "      <th>2015-01-02 09:00:00</th>\n",
       "      <td>120.40</td>\n",
       "      <td>120.50</td>\n",
       "      <td>120.38</td>\n",
       "      <td>120.43</td>\n",
       "      <td>599</td>\n",
       "      <td>30</td>\n",
       "      <td>0</td>\n",
       "    </tr>\n",
       "    <tr>\n",
       "      <th>2015-01-02 10:00:00</th>\n",
       "      <td>120.44</td>\n",
       "      <td>120.48</td>\n",
       "      <td>120.34</td>\n",
       "      <td>120.34</td>\n",
       "      <td>832</td>\n",
       "      <td>30</td>\n",
       "      <td>0</td>\n",
       "    </tr>\n",
       "    <tr>\n",
       "      <th>2015-01-02 11:00:00</th>\n",
       "      <td>120.33</td>\n",
       "      <td>120.42</td>\n",
       "      <td>120.31</td>\n",
       "      <td>120.40</td>\n",
       "      <td>761</td>\n",
       "      <td>30</td>\n",
       "      <td>0</td>\n",
       "    </tr>\n",
       "    <tr>\n",
       "      <th>2015-01-02 12:00:00</th>\n",
       "      <td>120.41</td>\n",
       "      <td>120.47</td>\n",
       "      <td>120.37</td>\n",
       "      <td>120.43</td>\n",
       "      <td>484</td>\n",
       "      <td>30</td>\n",
       "      <td>0</td>\n",
       "    </tr>\n",
       "  </tbody>\n",
       "</table>\n",
       "</div>"
      ],
      "text/plain": [
       "                       open    high     low   close  tick_volume  spread  \\\n",
       "time                                                                       \n",
       "2015-01-02 08:00:00  120.42  120.44  120.33  120.39          262      30   \n",
       "2015-01-02 09:00:00  120.40  120.50  120.38  120.43          599      30   \n",
       "2015-01-02 10:00:00  120.44  120.48  120.34  120.34          832      30   \n",
       "2015-01-02 11:00:00  120.33  120.42  120.31  120.40          761      30   \n",
       "2015-01-02 12:00:00  120.41  120.47  120.37  120.43          484      30   \n",
       "\n",
       "                     real_volume  \n",
       "time                              \n",
       "2015-01-02 08:00:00            0  \n",
       "2015-01-02 09:00:00            0  \n",
       "2015-01-02 10:00:00            0  \n",
       "2015-01-02 11:00:00            0  \n",
       "2015-01-02 12:00:00            0  "
      ]
     },
     "execution_count": 5,
     "metadata": {},
     "output_type": "execute_result"
    }
   ],
   "source": [
    "# Fetching data from MetaTrader5 from 2015 to the present using the custom function \"get_rates\" from the data.py file\n",
    "# The historical data retrieved is of 1-hour timeframe\n",
    "df = data.get_rates(\"USDJPY\", mt5.TIMEFRAME_H1, datetime(2015,1,1))\n",
    "df.head()"
   ]
  },
  {
   "cell_type": "code",
   "execution_count": 6,
   "id": "dd588294-c2c4-45a9-93f2-735ece255792",
   "metadata": {},
   "outputs": [
    {
     "data": {
      "text/html": [
       "<div>\n",
       "<style scoped>\n",
       "    .dataframe tbody tr th:only-of-type {\n",
       "        vertical-align: middle;\n",
       "    }\n",
       "\n",
       "    .dataframe tbody tr th {\n",
       "        vertical-align: top;\n",
       "    }\n",
       "\n",
       "    .dataframe thead th {\n",
       "        text-align: right;\n",
       "    }\n",
       "</style>\n",
       "<table border=\"1\" class=\"dataframe\">\n",
       "  <thead>\n",
       "    <tr style=\"text-align: right;\">\n",
       "      <th></th>\n",
       "      <th>open</th>\n",
       "      <th>high</th>\n",
       "      <th>low</th>\n",
       "      <th>close</th>\n",
       "      <th>volume</th>\n",
       "    </tr>\n",
       "    <tr>\n",
       "      <th>time</th>\n",
       "      <th></th>\n",
       "      <th></th>\n",
       "      <th></th>\n",
       "      <th></th>\n",
       "      <th></th>\n",
       "    </tr>\n",
       "  </thead>\n",
       "  <tbody>\n",
       "    <tr>\n",
       "      <th>2015-01-02 08:00:00</th>\n",
       "      <td>120.42</td>\n",
       "      <td>120.44</td>\n",
       "      <td>120.33</td>\n",
       "      <td>120.39</td>\n",
       "      <td>262</td>\n",
       "    </tr>\n",
       "    <tr>\n",
       "      <th>2015-01-02 09:00:00</th>\n",
       "      <td>120.40</td>\n",
       "      <td>120.50</td>\n",
       "      <td>120.38</td>\n",
       "      <td>120.43</td>\n",
       "      <td>599</td>\n",
       "    </tr>\n",
       "    <tr>\n",
       "      <th>2015-01-02 10:00:00</th>\n",
       "      <td>120.44</td>\n",
       "      <td>120.48</td>\n",
       "      <td>120.34</td>\n",
       "      <td>120.34</td>\n",
       "      <td>832</td>\n",
       "    </tr>\n",
       "    <tr>\n",
       "      <th>2015-01-02 11:00:00</th>\n",
       "      <td>120.33</td>\n",
       "      <td>120.42</td>\n",
       "      <td>120.31</td>\n",
       "      <td>120.40</td>\n",
       "      <td>761</td>\n",
       "    </tr>\n",
       "    <tr>\n",
       "      <th>2015-01-02 12:00:00</th>\n",
       "      <td>120.41</td>\n",
       "      <td>120.47</td>\n",
       "      <td>120.37</td>\n",
       "      <td>120.43</td>\n",
       "      <td>484</td>\n",
       "    </tr>\n",
       "  </tbody>\n",
       "</table>\n",
       "</div>"
      ],
      "text/plain": [
       "                       open    high     low   close  volume\n",
       "time                                                       \n",
       "2015-01-02 08:00:00  120.42  120.44  120.33  120.39     262\n",
       "2015-01-02 09:00:00  120.40  120.50  120.38  120.43     599\n",
       "2015-01-02 10:00:00  120.44  120.48  120.34  120.34     832\n",
       "2015-01-02 11:00:00  120.33  120.42  120.31  120.40     761\n",
       "2015-01-02 12:00:00  120.41  120.47  120.37  120.43     484"
      ]
     },
     "execution_count": 6,
     "metadata": {},
     "output_type": "execute_result"
    }
   ],
   "source": [
    "# Drop columns spread and real_volume and remane columns tick_volumne to volumne\n",
    "df = df[[\"open\", \"high\", \"low\", \"close\", \"tick_volume\"]]\n",
    "df.rename(columns={'tick_volume': 'volume'}, inplace=True)\n",
    "df.head()"
   ]
  },
  {
   "cell_type": "markdown",
   "id": "e879b604-c161-44a3-9664-9dbdf2b36ca3",
   "metadata": {},
   "source": [
    "## Feature engineering \n",
    "**Creating new input variables from raw data**"
   ]
  },
  {
   "cell_type": "code",
   "execution_count": 8,
   "id": "cd1db527-ca71-45ef-830e-81567472dd12",
   "metadata": {},
   "outputs": [
    {
     "data": {
      "text/html": [
       "<div>\n",
       "<style scoped>\n",
       "    .dataframe tbody tr th:only-of-type {\n",
       "        vertical-align: middle;\n",
       "    }\n",
       "\n",
       "    .dataframe tbody tr th {\n",
       "        vertical-align: top;\n",
       "    }\n",
       "\n",
       "    .dataframe thead th {\n",
       "        text-align: right;\n",
       "    }\n",
       "</style>\n",
       "<table border=\"1\" class=\"dataframe\">\n",
       "  <thead>\n",
       "    <tr style=\"text-align: right;\">\n",
       "      <th></th>\n",
       "      <th>close</th>\n",
       "      <th>pct_change</th>\n",
       "    </tr>\n",
       "    <tr>\n",
       "      <th>time</th>\n",
       "      <th></th>\n",
       "      <th></th>\n",
       "    </tr>\n",
       "  </thead>\n",
       "  <tbody>\n",
       "    <tr>\n",
       "      <th>2015-01-02 08:00:00</th>\n",
       "      <td>120.39</td>\n",
       "      <td>NaN</td>\n",
       "    </tr>\n",
       "    <tr>\n",
       "      <th>2015-01-02 09:00:00</th>\n",
       "      <td>120.43</td>\n",
       "      <td>0.000332</td>\n",
       "    </tr>\n",
       "    <tr>\n",
       "      <th>2015-01-02 10:00:00</th>\n",
       "      <td>120.34</td>\n",
       "      <td>-0.000747</td>\n",
       "    </tr>\n",
       "    <tr>\n",
       "      <th>2015-01-02 11:00:00</th>\n",
       "      <td>120.40</td>\n",
       "      <td>0.000499</td>\n",
       "    </tr>\n",
       "    <tr>\n",
       "      <th>2015-01-02 12:00:00</th>\n",
       "      <td>120.43</td>\n",
       "      <td>0.000249</td>\n",
       "    </tr>\n",
       "  </tbody>\n",
       "</table>\n",
       "</div>"
      ],
      "text/plain": [
       "                      close  pct_change\n",
       "time                                   \n",
       "2015-01-02 08:00:00  120.39         NaN\n",
       "2015-01-02 09:00:00  120.43    0.000332\n",
       "2015-01-02 10:00:00  120.34   -0.000747\n",
       "2015-01-02 11:00:00  120.40    0.000499\n",
       "2015-01-02 12:00:00  120.43    0.000249"
      ]
     },
     "execution_count": 8,
     "metadata": {},
     "output_type": "execute_result"
    }
   ],
   "source": [
    "# Create a second DataFrame from the close column and compute the percent change in a new column\n",
    "df_copy = df[[\"close\"]]\n",
    "df_copy[\"pct_change\"] = df_copy[\"close\"].pct_change(1)\n",
    "df_copy.head()"
   ]
  },
  {
   "cell_type": "code",
   "execution_count": 9,
   "id": "77da5bc3-1b74-4da7-ac78-df0c8f6ed63b",
   "metadata": {},
   "outputs": [
    {
     "data": {
      "text/html": [
       "<div>\n",
       "<style scoped>\n",
       "    .dataframe tbody tr th:only-of-type {\n",
       "        vertical-align: middle;\n",
       "    }\n",
       "\n",
       "    .dataframe tbody tr th {\n",
       "        vertical-align: top;\n",
       "    }\n",
       "\n",
       "    .dataframe thead th {\n",
       "        text-align: right;\n",
       "    }\n",
       "</style>\n",
       "<table border=\"1\" class=\"dataframe\">\n",
       "  <thead>\n",
       "    <tr style=\"text-align: right;\">\n",
       "      <th></th>\n",
       "      <th>close</th>\n",
       "      <th>pct_change</th>\n",
       "      <th>SMA 15</th>\n",
       "      <th>SMA 60</th>\n",
       "      <th>MSD 10</th>\n",
       "      <th>MSD 30</th>\n",
       "      <th>RSI 30</th>\n",
       "      <th>WR 21</th>\n",
       "    </tr>\n",
       "    <tr>\n",
       "      <th>time</th>\n",
       "      <th></th>\n",
       "      <th></th>\n",
       "      <th></th>\n",
       "      <th></th>\n",
       "      <th></th>\n",
       "      <th></th>\n",
       "      <th></th>\n",
       "      <th></th>\n",
       "    </tr>\n",
       "  </thead>\n",
       "  <tbody>\n",
       "    <tr>\n",
       "      <th>2015-01-06 20:00:00</th>\n",
       "      <td>118.36</td>\n",
       "      <td>-0.001013</td>\n",
       "      <td>118.910667</td>\n",
       "      <td>119.814667</td>\n",
       "      <td>0.308300</td>\n",
       "      <td>0.423147</td>\n",
       "      <td>37.046534</td>\n",
       "      <td>-72.670807</td>\n",
       "    </tr>\n",
       "    <tr>\n",
       "      <th>2015-01-06 21:00:00</th>\n",
       "      <td>118.62</td>\n",
       "      <td>0.002197</td>\n",
       "      <td>118.848667</td>\n",
       "      <td>119.780833</td>\n",
       "      <td>0.340361</td>\n",
       "      <td>0.415715</td>\n",
       "      <td>36.030372</td>\n",
       "      <td>-79.746835</td>\n",
       "    </tr>\n",
       "    <tr>\n",
       "      <th>2015-01-06 22:00:00</th>\n",
       "      <td>118.49</td>\n",
       "      <td>-0.001096</td>\n",
       "      <td>118.808000</td>\n",
       "      <td>119.750667</td>\n",
       "      <td>0.342922</td>\n",
       "      <td>0.409160</td>\n",
       "      <td>39.735411</td>\n",
       "      <td>-60.273973</td>\n",
       "    </tr>\n",
       "    <tr>\n",
       "      <th>2015-01-06 23:00:00</th>\n",
       "      <td>118.36</td>\n",
       "      <td>-0.001097</td>\n",
       "      <td>118.777333</td>\n",
       "      <td>119.719833</td>\n",
       "      <td>0.343455</td>\n",
       "      <td>0.420124</td>\n",
       "      <td>38.579643</td>\n",
       "      <td>-69.178082</td>\n",
       "    </tr>\n",
       "    <tr>\n",
       "      <th>2015-01-07 00:00:00</th>\n",
       "      <td>118.59</td>\n",
       "      <td>0.001943</td>\n",
       "      <td>118.748667</td>\n",
       "      <td>119.685833</td>\n",
       "      <td>0.283706</td>\n",
       "      <td>0.431128</td>\n",
       "      <td>37.452708</td>\n",
       "      <td>-77.142857</td>\n",
       "    </tr>\n",
       "  </tbody>\n",
       "</table>\n",
       "</div>"
      ],
      "text/plain": [
       "                      close  pct_change      SMA 15      SMA 60    MSD 10  \\\n",
       "time                                                                        \n",
       "2015-01-06 20:00:00  118.36   -0.001013  118.910667  119.814667  0.308300   \n",
       "2015-01-06 21:00:00  118.62    0.002197  118.848667  119.780833  0.340361   \n",
       "2015-01-06 22:00:00  118.49   -0.001096  118.808000  119.750667  0.342922   \n",
       "2015-01-06 23:00:00  118.36   -0.001097  118.777333  119.719833  0.343455   \n",
       "2015-01-07 00:00:00  118.59    0.001943  118.748667  119.685833  0.283706   \n",
       "\n",
       "                       MSD 30     RSI 30      WR 21  \n",
       "time                                                 \n",
       "2015-01-06 20:00:00  0.423147  37.046534 -72.670807  \n",
       "2015-01-06 21:00:00  0.415715  36.030372 -79.746835  \n",
       "2015-01-06 22:00:00  0.409160  39.735411 -60.273973  \n",
       "2015-01-06 23:00:00  0.420124  38.579643 -69.178082  \n",
       "2015-01-07 00:00:00  0.431128  37.452708 -77.142857  "
      ]
     },
     "execution_count": 9,
     "metadata": {},
     "output_type": "execute_result"
    }
   ],
   "source": [
    "# Creating new features to train the model\n",
    "df_copy2 = df_copy\n",
    "df_copy2[\"SMA 15\"] = df_copy2[[\"close\"]].rolling(15).mean().shift(1)\n",
    "df_copy2[\"SMA 60\"] = df_copy2[[\"close\"]].rolling(60).mean().shift(1)\n",
    "df_copy2[\"MSD 10\"] = df_copy2[[\"close\"]].rolling(10).std().shift(1)\n",
    "df_copy2[\"MSD 30\"] = df_copy2[[\"close\"]].rolling(30).std().shift(1)\n",
    "\n",
    "RSI = ta.momentum.RSIIndicator(df_copy2[\"close\"], window=30, fillna=False)\n",
    "df_copy2[\"RSI 30\"] = RSI.rsi().shift(1)\n",
    "\n",
    "WR = ta.momentum.WilliamsRIndicator(df[\"high\"], df[\"low\"], df[\"close\"], lbp=21, fillna=False)\n",
    "df_copy2[\"WR 21\"] = WR.williams_r().shift(1)\n",
    "\n",
    "df_copy2.dropna(inplace=True)\n",
    "df_copy2.head()"
   ]
  },
  {
   "cell_type": "code",
   "execution_count": 10,
   "id": "c3f9035a-31b4-4b60-9ae9-8a435b3986a6",
   "metadata": {},
   "outputs": [
    {
     "data": {
      "text/html": [
       "<div>\n",
       "<style scoped>\n",
       "    .dataframe tbody tr th:only-of-type {\n",
       "        vertical-align: middle;\n",
       "    }\n",
       "\n",
       "    .dataframe tbody tr th {\n",
       "        vertical-align: top;\n",
       "    }\n",
       "\n",
       "    .dataframe thead th {\n",
       "        text-align: right;\n",
       "    }\n",
       "</style>\n",
       "<table border=\"1\" class=\"dataframe\">\n",
       "  <thead>\n",
       "    <tr style=\"text-align: right;\">\n",
       "      <th></th>\n",
       "      <th>close</th>\n",
       "      <th>pct_change</th>\n",
       "      <th>SMA 15</th>\n",
       "      <th>SMA 60</th>\n",
       "      <th>MSD 10</th>\n",
       "      <th>MSD 30</th>\n",
       "      <th>RSI 30</th>\n",
       "      <th>WR 21</th>\n",
       "      <th>1_close_bars_ago</th>\n",
       "      <th>2_close_bars_ago</th>\n",
       "      <th>3_close_bars_ago</th>\n",
       "      <th>4_close_bars_ago</th>\n",
       "      <th>5_close_bars_ago</th>\n",
       "    </tr>\n",
       "    <tr>\n",
       "      <th>time</th>\n",
       "      <th></th>\n",
       "      <th></th>\n",
       "      <th></th>\n",
       "      <th></th>\n",
       "      <th></th>\n",
       "      <th></th>\n",
       "      <th></th>\n",
       "      <th></th>\n",
       "      <th></th>\n",
       "      <th></th>\n",
       "      <th></th>\n",
       "      <th></th>\n",
       "      <th></th>\n",
       "    </tr>\n",
       "  </thead>\n",
       "  <tbody>\n",
       "    <tr>\n",
       "      <th>2015-01-07 01:00:00</th>\n",
       "      <td>118.65</td>\n",
       "      <td>0.000506</td>\n",
       "      <td>118.710667</td>\n",
       "      <td>119.655167</td>\n",
       "      <td>0.240289</td>\n",
       "      <td>0.425081</td>\n",
       "      <td>40.626936</td>\n",
       "      <td>-60.714286</td>\n",
       "      <td>118.59</td>\n",
       "      <td>118.36</td>\n",
       "      <td>118.49</td>\n",
       "      <td>118.62</td>\n",
       "      <td>118.36</td>\n",
       "    </tr>\n",
       "    <tr>\n",
       "      <th>2015-01-07 02:00:00</th>\n",
       "      <td>118.74</td>\n",
       "      <td>0.000759</td>\n",
       "      <td>118.696000</td>\n",
       "      <td>119.624833</td>\n",
       "      <td>0.192841</td>\n",
       "      <td>0.416137</td>\n",
       "      <td>41.429091</td>\n",
       "      <td>-54.477612</td>\n",
       "      <td>118.65</td>\n",
       "      <td>118.59</td>\n",
       "      <td>118.36</td>\n",
       "      <td>118.49</td>\n",
       "      <td>118.62</td>\n",
       "    </tr>\n",
       "    <tr>\n",
       "      <th>2015-01-07 03:00:00</th>\n",
       "      <td>119.00</td>\n",
       "      <td>0.002190</td>\n",
       "      <td>118.690000</td>\n",
       "      <td>119.593500</td>\n",
       "      <td>0.172784</td>\n",
       "      <td>0.397710</td>\n",
       "      <td>42.631784</td>\n",
       "      <td>-47.761194</td>\n",
       "      <td>118.74</td>\n",
       "      <td>118.65</td>\n",
       "      <td>118.59</td>\n",
       "      <td>118.36</td>\n",
       "      <td>118.49</td>\n",
       "    </tr>\n",
       "    <tr>\n",
       "      <th>2015-01-07 04:00:00</th>\n",
       "      <td>119.06</td>\n",
       "      <td>0.000504</td>\n",
       "      <td>118.692667</td>\n",
       "      <td>119.566833</td>\n",
       "      <td>0.225657</td>\n",
       "      <td>0.383160</td>\n",
       "      <td>45.948689</td>\n",
       "      <td>-28.358209</td>\n",
       "      <td>119.00</td>\n",
       "      <td>118.74</td>\n",
       "      <td>118.65</td>\n",
       "      <td>118.59</td>\n",
       "      <td>118.36</td>\n",
       "    </tr>\n",
       "    <tr>\n",
       "      <th>2015-01-07 05:00:00</th>\n",
       "      <td>119.01</td>\n",
       "      <td>-0.000420</td>\n",
       "      <td>118.676000</td>\n",
       "      <td>119.539833</td>\n",
       "      <td>0.241212</td>\n",
       "      <td>0.360198</td>\n",
       "      <td>46.684583</td>\n",
       "      <td>-23.880597</td>\n",
       "      <td>119.06</td>\n",
       "      <td>119.00</td>\n",
       "      <td>118.74</td>\n",
       "      <td>118.65</td>\n",
       "      <td>118.59</td>\n",
       "    </tr>\n",
       "  </tbody>\n",
       "</table>\n",
       "</div>"
      ],
      "text/plain": [
       "                      close  pct_change      SMA 15      SMA 60    MSD 10  \\\n",
       "time                                                                        \n",
       "2015-01-07 01:00:00  118.65    0.000506  118.710667  119.655167  0.240289   \n",
       "2015-01-07 02:00:00  118.74    0.000759  118.696000  119.624833  0.192841   \n",
       "2015-01-07 03:00:00  119.00    0.002190  118.690000  119.593500  0.172784   \n",
       "2015-01-07 04:00:00  119.06    0.000504  118.692667  119.566833  0.225657   \n",
       "2015-01-07 05:00:00  119.01   -0.000420  118.676000  119.539833  0.241212   \n",
       "\n",
       "                       MSD 30     RSI 30      WR 21  1_close_bars_ago  \\\n",
       "time                                                                    \n",
       "2015-01-07 01:00:00  0.425081  40.626936 -60.714286            118.59   \n",
       "2015-01-07 02:00:00  0.416137  41.429091 -54.477612            118.65   \n",
       "2015-01-07 03:00:00  0.397710  42.631784 -47.761194            118.74   \n",
       "2015-01-07 04:00:00  0.383160  45.948689 -28.358209            119.00   \n",
       "2015-01-07 05:00:00  0.360198  46.684583 -23.880597            119.06   \n",
       "\n",
       "                     2_close_bars_ago  3_close_bars_ago  4_close_bars_ago  \\\n",
       "time                                                                        \n",
       "2015-01-07 01:00:00            118.36            118.49            118.62   \n",
       "2015-01-07 02:00:00            118.59            118.36            118.49   \n",
       "2015-01-07 03:00:00            118.65            118.59            118.36   \n",
       "2015-01-07 04:00:00            118.74            118.65            118.59   \n",
       "2015-01-07 05:00:00            119.00            118.74            118.65   \n",
       "\n",
       "                     5_close_bars_ago  \n",
       "time                                   \n",
       "2015-01-07 01:00:00            118.36  \n",
       "2015-01-07 02:00:00            118.62  \n",
       "2015-01-07 03:00:00            118.49  \n",
       "2015-01-07 04:00:00            118.36  \n",
       "2015-01-07 05:00:00            118.59  "
      ]
     },
     "execution_count": 10,
     "metadata": {},
     "output_type": "execute_result"
    }
   ],
   "source": [
    "# Using the custome function \"add_shifted_columns\" 5 new columns are added with shifted values from close column\n",
    "# Check the docstring of the \"add_shifted_columns\" function from the data.py file\n",
    "df_copy2 = data.add_shifted_columns(df_copy2, 5, \"close\")\n",
    "df_copy2.dropna(inplace=True)\n",
    "df_copy2.head()"
   ]
  },
  {
   "cell_type": "markdown",
   "id": "6c73458b-4cee-4f44-8a28-371890999980",
   "metadata": {},
   "source": [
    "## Implementing Machine Learning"
   ]
  },
  {
   "cell_type": "code",
   "execution_count": 3001,
   "id": "eb7f5f2c-7f7c-4954-9023-8ad218bb815f",
   "metadata": {},
   "outputs": [],
   "source": [
    "# Splitting the data into features and labels for the ML model using the custom function \"split_data\" from data.py file\n",
    "X = df_copy2.iloc[:,2:]\n",
    "y = df_copy2[\"pct_change\"]\n",
    "\n",
    "# Data si splitted in training, validation and test datasets\n",
    "X_train, y_train, X_temp, y_temp = data.split_data(X, y, 70)\n",
    "X_val, y_val, X_test, y_test = data.split_data(X_temp, y_temp, 50)"
   ]
  },
  {
   "cell_type": "code",
   "execution_count": 3003,
   "id": "aa8e8e5f-ab5a-4c1c-91fd-499a491655d2",
   "metadata": {},
   "outputs": [
    {
     "data": {
      "image/png": "[encoded data removed]",
      "text/plain": [
       "<Figure size 1500x600 with 1 Axes>"
      ]
     },
     "metadata": {},
     "output_type": "display_data"
    }
   ],
   "source": [
    "# Plotting features before standardization to visualize their unequal scales\n",
    "X_train.plot(figsize=(15, 6))\n",
    "plt.legend().set_visible(False)\n",
    "plt.title(\"Visualizing Not Standardized Data\", fontsize=20)\n",
    "plt.show()"
   ]
  },
  {
   "cell_type": "markdown",
   "id": "6f9c5b0c-92be-4226-8acd-cb449c6ad1ed",
   "metadata": {},
   "source": [
    "### Applying StandardScaler to Normalize Features"
   ]
  },
  {
   "cell_type": "code",
   "execution_count": 3005,
   "id": "d9ceca9f-e1e0-41a7-ac6c-cf3a7e5f2c33",
   "metadata": {},
   "outputs": [],
   "source": [
    "from sklearn.preprocessing import MinMaxScaler"
   ]
  },
  {
   "cell_type": "code",
   "execution_count": 3006,
   "id": "16b4d868-2cf7-436b-9897-25960d3ae1a6",
   "metadata": {},
   "outputs": [],
   "source": [
    "# Only the feature sets (X) need to be standardized, not the targets (y)\n",
    "scaler = StandardScaler()\n",
    "X_train_scaled = scaler.fit_transform(X_train)\n",
    "X_val_scaled = scaler.transform(X_val)\n",
    "X_test_scaled = scaler.transform(X_test)"
   ]
  },
  {
   "cell_type": "code",
   "execution_count": 3007,
   "id": "5990505a-98a7-40b6-9608-0d204d4a550d",
   "metadata": {},
   "outputs": [
    {
     "data": {
      "image/png": "[encoded data removed]",
      "text/plain": [
       "<Figure size 1500x600 with 1 Axes>"
      ]
     },
     "metadata": {},
     "output_type": "display_data"
    }
   ],
   "source": [
    "pd.DataFrame(X_train_scaled).plot(figsize=(15, 6))\n",
    "plt.legend().set_visible(False)\n",
    "plt.title(\"Visualizing Standardized Data\", fontsize=20)\n",
    "plt.show()"
   ]
  },
  {
   "cell_type": "markdown",
   "id": "9456d73f-231a-40c7-b2a6-c6c9de66b423",
   "metadata": {},
   "source": [
    "**Transforming 2D data into 3D datasets**\n",
    "\n",
    "This is the proper data shape received by the LSTM algorithm"
   ]
  },
  {
   "cell_type": "code",
   "execution_count": 3009,
   "id": "700acda7-cc37-4582-95cd-d1af60f17d3a",
   "metadata": {},
   "outputs": [],
   "source": [
    "# Creating a function to transfor the 2D data into 3D data\n",
    "def create_3d_data(X_data, y_data, lag):\n",
    "    X_data_3d = []\n",
    "    y_data_3d = []\n",
    "\n",
    "    for i in range(lag, len(X_data)):\n",
    "        X_data_3d.append(X_data[i-lag:i])\n",
    "        y_data_3d.append(y_data[i])\n",
    "\n",
    "    X_data_3d = np.array(X_data_3d)\n",
    "    y_data_3d = np.array(y_data_3d)\n",
    "\n",
    "    return X_data_3d, y_data_3d"
   ]
  },
  {
   "cell_type": "markdown",
   "id": "08de106d-869c-4854-a5a7-b2679bae4d19",
   "metadata": {},
   "source": [
    "**Transforming labels into classes**\n",
    "\n",
    "- If percent change is lower than 0 is set to 0\n",
    "- If equal 0 is set to 1\n",
    "- If it's above 0 is set to 2\n",
    "\n",
    "(those are price movement directions)"
   ]
  },
  {
   "cell_type": "code",
   "execution_count": 3180,
   "id": "eb00cc31-9782-44a1-a41d-d4110ce98a61",
   "metadata": {},
   "outputs": [],
   "source": [
    "X_train_3d, y_train_3d = create_3d_data(X_train_scaled, np.sign(y_train)+1, 5)\n",
    "X_val_3d, y_val_3d = create_3d_data(X_val_scaled, np.sign(y_val)+1, 5)\n",
    "X_test_3d, y_test_3d = create_3d_data(X_test_scaled, np.sign(y_test)+1, 5)\n"
   ]
  },
  {
   "cell_type": "markdown",
   "id": "b10f6f25-5a61-4119-ae3a-399c1bc8588c",
   "metadata": {},
   "source": [
    "**Showing the 3 type of classes**"
   ]
  },
  {
   "cell_type": "code",
   "execution_count": 3300,
   "id": "c6fd670e-f29a-4f90-a9a6-3bb454b532b1",
   "metadata": {},
   "outputs": [
    {
     "data": {
      "text/plain": [
       "0  \n",
       "2.0    21088\n",
       "0.0    20331\n",
       "1.0      714\n",
       "Name: count, dtype: int64"
      ]
     },
     "execution_count": 3300,
     "metadata": {},
     "output_type": "execute_result"
    }
   ],
   "source": [
    "pd.DataFrame(y_train_3d).value_counts()"
   ]
  },
  {
   "cell_type": "code",
   "execution_count": 3302,
   "id": "229898c8-0a21-4b7a-b280-d54d65ef62ed",
   "metadata": {},
   "outputs": [
    {
     "data": {
      "image/png": "[encoded data removed]",
      "text/plain": [
       "<Figure size 600x400 with 1 Axes>"
      ]
     },
     "metadata": {},
     "output_type": "display_data"
    }
   ],
   "source": [
    "value_counts = pd.DataFrame(y_train_3d).value_counts()\n",
    "\n",
    "# Convert the result to a DataFrame for plotting\n",
    "value_counts_df = value_counts.reset_index(name=\"count\")\n",
    "\n",
    "# Rename the columns for clarity\n",
    "value_counts_df.columns = [\"Class\", \"Count\"]\n",
    "\n",
    "# Plotting the bar chart\n",
    "plt.figure(figsize=(6,4))\n",
    "plt.bar(value_counts_df[\"Class\"].astype(str), value_counts_df[\"Count\"], color=[\"skyblue\", \"orange\", \"green\"])\n",
    "\n",
    "# Adding title and labels\n",
    "plt.title(\"Distribution of Classes in y_train_3d\", fontsize=15)\n",
    "plt.xlabel(\"Class\", fontsize=12)\n",
    "plt.ylabel(\"Count\", fontsize=15)\n",
    "plt.show()\n"
   ]
  },
  {
   "cell_type": "code",
   "execution_count": 3052,
   "id": "f5cc6758-1e97-4534-8d6c-a843384c1c55",
   "metadata": {},
   "outputs": [
    {
     "name": "stdout",
     "output_type": "stream",
     "text": [
      "Old shape of X_train dataset    (42138, 11)\n",
      "New shape of X_train dataset    (42133, 5, 11)\n"
     ]
    }
   ],
   "source": [
    "# Showing the new shape of the X_train dataset\n",
    "print(f\"Old shape of X_train dataset    {X_train_scaled.shape}\")\n",
    "print(f\"New shape of X_train dataset    {X_train_3d.shape}\")"
   ]
  },
  {
   "cell_type": "markdown",
   "id": "b8f16a1b-5730-40bb-900c-ec8bc36b2888",
   "metadata": {},
   "source": [
    "**Showing the first 3D row of the new X 3D dataset**"
   ]
  },
  {
   "cell_type": "code",
   "execution_count": 3055,
   "id": "ff97b031-2e4d-4297-88b3-2de0cb252a6b",
   "metadata": {},
   "outputs": [
    {
     "data": {
      "text/html": [
       "<div>\n",
       "<style scoped>\n",
       "    .dataframe tbody tr th:only-of-type {\n",
       "        vertical-align: middle;\n",
       "    }\n",
       "\n",
       "    .dataframe tbody tr th {\n",
       "        vertical-align: top;\n",
       "    }\n",
       "\n",
       "    .dataframe thead th {\n",
       "        text-align: right;\n",
       "    }\n",
       "</style>\n",
       "<table border=\"1\" class=\"dataframe\">\n",
       "  <thead>\n",
       "    <tr style=\"text-align: right;\">\n",
       "      <th></th>\n",
       "      <th>0</th>\n",
       "      <th>1</th>\n",
       "      <th>2</th>\n",
       "      <th>3</th>\n",
       "      <th>4</th>\n",
       "      <th>5</th>\n",
       "      <th>6</th>\n",
       "      <th>7</th>\n",
       "      <th>8</th>\n",
       "      <th>9</th>\n",
       "      <th>10</th>\n",
       "    </tr>\n",
       "  </thead>\n",
       "  <tbody>\n",
       "    <tr>\n",
       "      <th>0</th>\n",
       "      <td>1.455350</td>\n",
       "      <td>1.635839</td>\n",
       "      <td>1.176432</td>\n",
       "      <td>1.358607</td>\n",
       "      <td>-1.094330</td>\n",
       "      <td>-0.443140</td>\n",
       "      <td>1.431949</td>\n",
       "      <td>1.388339</td>\n",
       "      <td>1.412917</td>\n",
       "      <td>1.437492</td>\n",
       "      <td>1.388203</td>\n",
       "    </tr>\n",
       "    <tr>\n",
       "      <th>1</th>\n",
       "      <td>1.452571</td>\n",
       "      <td>1.630084</td>\n",
       "      <td>0.706174</td>\n",
       "      <td>1.301059</td>\n",
       "      <td>-1.003755</td>\n",
       "      <td>-0.228916</td>\n",
       "      <td>1.443314</td>\n",
       "      <td>1.431904</td>\n",
       "      <td>1.388294</td>\n",
       "      <td>1.412870</td>\n",
       "      <td>1.437447</td>\n",
       "    </tr>\n",
       "    <tr>\n",
       "      <th>2</th>\n",
       "      <td>1.451434</td>\n",
       "      <td>1.624138</td>\n",
       "      <td>0.507389</td>\n",
       "      <td>1.182490</td>\n",
       "      <td>-0.867952</td>\n",
       "      <td>0.001786</td>\n",
       "      <td>1.460362</td>\n",
       "      <td>1.443269</td>\n",
       "      <td>1.431858</td>\n",
       "      <td>1.388247</td>\n",
       "      <td>1.412825</td>\n",
       "    </tr>\n",
       "    <tr>\n",
       "      <th>3</th>\n",
       "      <td>1.451939</td>\n",
       "      <td>1.619079</td>\n",
       "      <td>1.031412</td>\n",
       "      <td>1.088869</td>\n",
       "      <td>-0.493423</td>\n",
       "      <td>0.668260</td>\n",
       "      <td>1.509610</td>\n",
       "      <td>1.460316</td>\n",
       "      <td>1.443222</td>\n",
       "      <td>1.431810</td>\n",
       "      <td>1.388203</td>\n",
       "    </tr>\n",
       "    <tr>\n",
       "      <th>4</th>\n",
       "      <td>1.448781</td>\n",
       "      <td>1.613956</td>\n",
       "      <td>1.185580</td>\n",
       "      <td>0.941117</td>\n",
       "      <td>-0.410329</td>\n",
       "      <td>0.822061</td>\n",
       "      <td>1.520975</td>\n",
       "      <td>1.509563</td>\n",
       "      <td>1.460269</td>\n",
       "      <td>1.443174</td>\n",
       "      <td>1.431765</td>\n",
       "    </tr>\n",
       "  </tbody>\n",
       "</table>\n",
       "</div>"
      ],
      "text/plain": [
       "         0         1         2         3         4         5         6   \\\n",
       "0  1.455350  1.635839  1.176432  1.358607 -1.094330 -0.443140  1.431949   \n",
       "1  1.452571  1.630084  0.706174  1.301059 -1.003755 -0.228916  1.443314   \n",
       "2  1.451434  1.624138  0.507389  1.182490 -0.867952  0.001786  1.460362   \n",
       "3  1.451939  1.619079  1.031412  1.088869 -0.493423  0.668260  1.509610   \n",
       "4  1.448781  1.613956  1.185580  0.941117 -0.410329  0.822061  1.520975   \n",
       "\n",
       "         7         8         9         10  \n",
       "0  1.388339  1.412917  1.437492  1.388203  \n",
       "1  1.431904  1.388294  1.412870  1.437447  \n",
       "2  1.443269  1.431858  1.388247  1.412825  \n",
       "3  1.460316  1.443222  1.431810  1.388203  \n",
       "4  1.509563  1.460269  1.443174  1.431765  "
      ]
     },
     "execution_count": 3055,
     "metadata": {},
     "output_type": "execute_result"
    }
   ],
   "source": [
    "pd.DataFrame(X_train_3d[0])"
   ]
  },
  {
   "cell_type": "code",
   "execution_count": 3057,
   "id": "681d539c-2217-4649-ac8a-36456c9bce54",
   "metadata": {},
   "outputs": [
    {
     "data": {
      "text/html": [
       "<div>\n",
       "<style scoped>\n",
       "    .dataframe tbody tr th:only-of-type {\n",
       "        vertical-align: middle;\n",
       "    }\n",
       "\n",
       "    .dataframe tbody tr th {\n",
       "        vertical-align: top;\n",
       "    }\n",
       "\n",
       "    .dataframe thead th {\n",
       "        text-align: right;\n",
       "    }\n",
       "</style>\n",
       "<table border=\"1\" class=\"dataframe\">\n",
       "  <thead>\n",
       "    <tr style=\"text-align: right;\">\n",
       "      <th></th>\n",
       "      <th>0</th>\n",
       "    </tr>\n",
       "  </thead>\n",
       "  <tbody>\n",
       "    <tr>\n",
       "      <th>9020</th>\n",
       "      <td>2.0</td>\n",
       "    </tr>\n",
       "    <tr>\n",
       "      <th>9021</th>\n",
       "      <td>2.0</td>\n",
       "    </tr>\n",
       "    <tr>\n",
       "      <th>9022</th>\n",
       "      <td>2.0</td>\n",
       "    </tr>\n",
       "    <tr>\n",
       "      <th>9023</th>\n",
       "      <td>2.0</td>\n",
       "    </tr>\n",
       "    <tr>\n",
       "      <th>9024</th>\n",
       "      <td>0.0</td>\n",
       "    </tr>\n",
       "  </tbody>\n",
       "</table>\n",
       "</div>"
      ],
      "text/plain": [
       "        0\n",
       "9020  2.0\n",
       "9021  2.0\n",
       "9022  2.0\n",
       "9023  2.0\n",
       "9024  0.0"
      ]
     },
     "execution_count": 3057,
     "metadata": {},
     "output_type": "execute_result"
    }
   ],
   "source": [
    "# This are the new labels represented as classes\n",
    "pd.DataFrame(y_test_3d).tail()"
   ]
  },
  {
   "cell_type": "code",
   "execution_count": 3308,
   "id": "98a4b55f-f643-4768-ae59-1fa00d66cb87",
   "metadata": {},
   "outputs": [
    {
     "data": {
      "text/html": [
       "<div>\n",
       "<style scoped>\n",
       "    .dataframe tbody tr th:only-of-type {\n",
       "        vertical-align: middle;\n",
       "    }\n",
       "\n",
       "    .dataframe tbody tr th {\n",
       "        vertical-align: top;\n",
       "    }\n",
       "\n",
       "    .dataframe thead th {\n",
       "        text-align: right;\n",
       "    }\n",
       "</style>\n",
       "<table border=\"1\" class=\"dataframe\">\n",
       "  <thead>\n",
       "    <tr style=\"text-align: right;\">\n",
       "      <th></th>\n",
       "      <th>pct_change</th>\n",
       "    </tr>\n",
       "    <tr>\n",
       "      <th>time</th>\n",
       "      <th></th>\n",
       "    </tr>\n",
       "  </thead>\n",
       "  <tbody>\n",
       "    <tr>\n",
       "      <th>2024-09-13 19:00:00</th>\n",
       "      <td>0.001038</td>\n",
       "    </tr>\n",
       "    <tr>\n",
       "      <th>2024-09-13 20:00:00</th>\n",
       "      <td>0.000689</td>\n",
       "    </tr>\n",
       "    <tr>\n",
       "      <th>2024-09-13 21:00:00</th>\n",
       "      <td>0.000142</td>\n",
       "    </tr>\n",
       "    <tr>\n",
       "      <th>2024-09-13 22:00:00</th>\n",
       "      <td>0.000014</td>\n",
       "    </tr>\n",
       "    <tr>\n",
       "      <th>2024-09-13 23:00:00</th>\n",
       "      <td>-0.000341</td>\n",
       "    </tr>\n",
       "  </tbody>\n",
       "</table>\n",
       "</div>"
      ],
      "text/plain": [
       "                     pct_change\n",
       "time                           \n",
       "2024-09-13 19:00:00    0.001038\n",
       "2024-09-13 20:00:00    0.000689\n",
       "2024-09-13 21:00:00    0.000142\n",
       "2024-09-13 22:00:00    0.000014\n",
       "2024-09-13 23:00:00   -0.000341"
      ]
     },
     "execution_count": 3308,
     "metadata": {},
     "output_type": "execute_result"
    }
   ],
   "source": [
    "# Showing original values\n",
    "pd.DataFrame(y_test).tail()"
   ]
  },
  {
   "cell_type": "markdown",
   "id": "ca11286d-6587-4dfe-9dfb-de736c36a199",
   "metadata": {},
   "source": [
    "**Prefetching data to make the algorithms run faster**"
   ]
  },
  {
   "cell_type": "code",
   "execution_count": 3062,
   "id": "c3b132b4-491f-457a-adc9-6007a371bead",
   "metadata": {},
   "outputs": [],
   "source": [
    "import tensorflow as tf\n",
    "from tensorflow.keras.models import Sequential\n",
    "from tensorflow.keras.callbacks import ModelCheckpoint, EarlyStopping, ReduceLROnPlateau\n",
    "from tensorflow.keras.layers import Dense, LSTM, Dropout\n",
    "from tensorflow.keras.optimizers import Adam\n",
    "import os"
   ]
  },
  {
   "cell_type": "code",
   "execution_count": 3064,
   "id": "f9512f08-596c-400c-ad03-e5e397612f6c",
   "metadata": {},
   "outputs": [],
   "source": [
    "# Convert both X and y datasets into TensorFlow datasets\n",
    "train_dataset = tf.data.Dataset.from_tensor_slices((X_train_3d, y_train_3d))\n",
    "val_dataset = tf.data.Dataset.from_tensor_slices((X_val_3d, y_val_3d))\n",
    "test_dataset = tf.data.Dataset.from_tensor_slices((X_test_3d, y_test_3d))\n",
    "\n",
    "# Batch and prefetch\n",
    "batch_size = 256  \n",
    "train_dataset = train_dataset.batch(batch_size).prefetch(tf.data.experimental.AUTOTUNE)\n",
    "val_dataset = val_dataset.batch(batch_size).prefetch(tf.data.experimental.AUTOTUNE)\n",
    "test_dataset = test_dataset.batch(batch_size).prefetch(tf.data.experimental.AUTOTUNE)"
   ]
  },
  {
   "cell_type": "code",
   "execution_count": 3066,
   "id": "f7b3160f-93ae-4136-863e-593a947610d2",
   "metadata": {},
   "outputs": [],
   "source": [
    "# Creating a function to implement a ModelChechpoint callback with a specific filename \n",
    "def create_model_checkpoint(model_name, save_path=\"model_experiments\"):\n",
    "    # Ensure the directory exists\n",
    "    #os.makedirs(save_path, exist_ok=True)\n",
    "    \n",
    "    return ModelCheckpoint(\n",
    "        filepath=os.path.join(save_path, f\"{model_name}.keras\"),\n",
    "        monitor=\"val_loss\",\n",
    "        verbose=1,\n",
    "        save_best_only=True\n",
    "    )"
   ]
  },
  {
   "cell_type": "markdown",
   "id": "d70baa73-5c5d-4e12-8156-fe1fe2351fc9",
   "metadata": {},
   "source": [
    "**Creating a function to easily run several models and try different combination of hyperparameters**"
   ]
  },
  {
   "cell_type": "code",
   "execution_count": 3068,
   "id": "1b61bbf4-fcbb-4fb4-82df-a16212e4e56f",
   "metadata": {},
   "outputs": [],
   "source": [
    "def run_lstm(train_sets, \n",
    "             val_sets, \n",
    "             model_name, \n",
    "             neurons=64, \n",
    "             hidden_layers=2, \n",
    "             p_epochs=30,\n",
    "             dropout=0.20,\n",
    "             lr=0.001, \n",
    "             early_stopping_ptn=15,\n",
    "             reduce_plateau_ptn=5,\n",
    "             rp_lr=0.05,\n",
    "             path=\"model_experiments\",\n",
    "             p_batch_size=512):\n",
    "\n",
    "    for features, labels in train_sets.take(1):\n",
    "        features_input_shape = features.shape[1:]\n",
    "        break\n",
    "    \n",
    "   \n",
    "    model_name = Sequential(name=model_name)\n",
    "\n",
    "    # Input layer\n",
    "    model_name.add(LSTM(neurons, input_shape=(features_input_shape), activation=\"tanh\", return_sequences=True, name=\"input_layer_0\"))\n",
    "\n",
    "    # hidden layers\n",
    "    for i in range(0, hidden_layers):\n",
    "        model_name.add(LSTM(int(neurons/2), activation=\"tanh\", return_sequences=True, name=f\"hidden_layer_{i}\"))\n",
    "        model_name.add(Dropout(dropout, name=f\"dropout_layer_{i}\"))\n",
    "\n",
    "    # Last hidden layer\n",
    "    model_name.add(LSTM(int(neurons/4), activation=\"tanh\", return_sequences=False, name=f\"last_hidden_layer\"))\n",
    "    model_name.add(Dropout(dropout, name=\"last_dropout_layer_\"))\n",
    "    \n",
    "    # Output layer\n",
    "    model_name.add(Dense(3, activation=\"softmax\", name=\"output_layer\"))\n",
    "    \n",
    "    checkpoint_callback = create_model_checkpoint(model_name.name, path)\n",
    "    early_stopping = EarlyStopping(monitor=\"val_loss\", patience=early_stopping_ptn, verbose=1)\n",
    "    reduce_plateau = ReduceLROnPlateau(monitor=\"val_loss\", factor=rp_lr, patience=reduce_plateau_ptn, verbose=2)\n",
    "\n",
    "    # Compiling the model\n",
    "    model_name.compile(loss=\"sparse_categorical_crossentropy\", optimizer=Adam(learning_rate=lr), metrics=[\"accuracy\"])\n",
    "\n",
    "    # Training the model\n",
    "    history = model_name.fit(train_sets,\n",
    "                               validation_data=(val_sets), \n",
    "                               batch_size=p_batch_size, \n",
    "                               epochs=p_epochs,\n",
    "                               verbose=0,\n",
    "                               callbacks=[checkpoint_callback, early_stopping, reduce_plateau]\n",
    "                              )\n",
    "\n",
    "    return history"
   ]
  },
  {
   "cell_type": "markdown",
   "id": "6313d9f5-2c8d-42e2-b3b3-0c4649e2ef07",
   "metadata": {},
   "source": [
    "**Running the first model**"
   ]
  },
  {
   "cell_type": "code",
   "execution_count": 3147,
   "id": "bb5ac384-a703-4e42-9111-77822e83759e",
   "metadata": {
    "scrolled": true
   },
   "outputs": [
    {
     "name": "stdout",
     "output_type": "stream",
     "text": [
      "\n",
      "Epoch 1: val_loss improved from inf to 0.72826, saving model to model_experiments\\model_1.keras\n",
      "\n",
      "Epoch 2: val_loss improved from 0.72826 to 0.72606, saving model to model_experiments\\model_1.keras\n",
      "\n",
      "Epoch 3: val_loss improved from 0.72606 to 0.72440, saving model to model_experiments\\model_1.keras\n",
      "\n",
      "Epoch 4: val_loss improved from 0.72440 to 0.72356, saving model to model_experiments\\model_1.keras\n",
      "\n",
      "Epoch 5: val_loss did not improve from 0.72356\n",
      "\n",
      "Epoch 6: val_loss did not improve from 0.72356\n",
      "\n",
      "Epoch 7: val_loss did not improve from 0.72356\n",
      "\n",
      "Epoch 8: val_loss did not improve from 0.72356\n",
      "\n",
      "Epoch 9: val_loss did not improve from 0.72356\n",
      "\n",
      "Epoch 9: ReduceLROnPlateau reducing learning rate to 5.0000002374872565e-05.\n",
      "\n",
      "Epoch 10: val_loss did not improve from 0.72356\n",
      "\n",
      "Epoch 11: val_loss did not improve from 0.72356\n",
      "\n",
      "Epoch 12: val_loss did not improve from 0.72356\n",
      "\n",
      "Epoch 13: val_loss did not improve from 0.72356\n",
      "\n",
      "Epoch 14: val_loss did not improve from 0.72356\n",
      "\n",
      "Epoch 14: ReduceLROnPlateau reducing learning rate to 2.5000001187436284e-06.\n",
      "\n",
      "Epoch 15: val_loss did not improve from 0.72356\n",
      "Epoch 15: early stopping\n"
     ]
    }
   ],
   "source": [
    "history_model_1 = run_lstm(train_sets=train_dataset,\n",
    "                           val_sets=val_dataset,\n",
    "                           model_name=\"model_1\",\n",
    "                           neurons=32,\n",
    "                           hidden_layers=2,\n",
    "                           lr=0.001,\n",
    "                           early_stopping_ptn=11,\n",
    "                           reduce_plateau_ptn=5)"
   ]
  },
  {
   "cell_type": "code",
   "execution_count": 3149,
   "id": "f4f412dd-6b6f-439b-9f02-930d2881a454",
   "metadata": {},
   "outputs": [],
   "source": [
    "from tensorflow.keras.models import load_model"
   ]
  },
  {
   "cell_type": "markdown",
   "id": "02e5017b-8662-43b2-9e1c-3625b699e8ad",
   "metadata": {},
   "source": [
    "**Loading the Model and Showing its Architecture**"
   ]
  },
  {
   "cell_type": "code",
   "execution_count": 3152,
   "id": "5de0f773-aab8-4165-9dff-5b1a791a5ce1",
   "metadata": {},
   "outputs": [
    {
     "data": {
      "text/html": [
       "<pre style=\"white-space:pre;overflow-x:auto;line-height:normal;font-family:Menlo,'DejaVu Sans Mono',consolas,'Courier New',monospace\"><span style=\"font-weight: bold\">Model: \"model_1\"</span>\n",
       "</pre>\n"
      ],
      "text/plain": [
       "\u001b[1mModel: \"model_1\"\u001b[0m\n"
      ]
     },
     "metadata": {},
     "output_type": "display_data"
    },
    {
     "data": {
      "text/html": [
       "<pre style=\"white-space:pre;overflow-x:auto;line-height:normal;font-family:Menlo,'DejaVu Sans Mono',consolas,'Courier New',monospace\">┏━━━━━━━━━━━━━━━━━━━━━━━━━━━━━━━━━┳━━━━━━━━━━━━━━━━━━━━━━━━┳━━━━━━━━━━━━━━━┓\n",
       "┃<span style=\"font-weight: bold\"> Layer (type)                    </span>┃<span style=\"font-weight: bold\"> Output Shape           </span>┃<span style=\"font-weight: bold\">       Param # </span>┃\n",
       "┡━━━━━━━━━━━━━━━━━━━━━━━━━━━━━━━━━╇━━━━━━━━━━━━━━━━━━━━━━━━╇━━━━━━━━━━━━━━━┩\n",
       "│ input_layer_0 (<span style=\"color: #0087ff; text-decoration-color: #0087ff\">LSTM</span>)            │ (<span style=\"color: #00d7ff; text-decoration-color: #00d7ff\">None</span>, <span style=\"color: #00af00; text-decoration-color: #00af00\">5</span>, <span style=\"color: #00af00; text-decoration-color: #00af00\">32</span>)          │         <span style=\"color: #00af00; text-decoration-color: #00af00\">5,632</span> │\n",
       "├─────────────────────────────────┼────────────────────────┼───────────────┤\n",
       "│ hidden_layer_0 (<span style=\"color: #0087ff; text-decoration-color: #0087ff\">LSTM</span>)           │ (<span style=\"color: #00d7ff; text-decoration-color: #00d7ff\">None</span>, <span style=\"color: #00af00; text-decoration-color: #00af00\">5</span>, <span style=\"color: #00af00; text-decoration-color: #00af00\">16</span>)          │         <span style=\"color: #00af00; text-decoration-color: #00af00\">3,136</span> │\n",
       "├─────────────────────────────────┼────────────────────────┼───────────────┤\n",
       "│ dropout_layer_0 (<span style=\"color: #0087ff; text-decoration-color: #0087ff\">Dropout</span>)       │ (<span style=\"color: #00d7ff; text-decoration-color: #00d7ff\">None</span>, <span style=\"color: #00af00; text-decoration-color: #00af00\">5</span>, <span style=\"color: #00af00; text-decoration-color: #00af00\">16</span>)          │             <span style=\"color: #00af00; text-decoration-color: #00af00\">0</span> │\n",
       "├─────────────────────────────────┼────────────────────────┼───────────────┤\n",
       "│ hidden_layer_1 (<span style=\"color: #0087ff; text-decoration-color: #0087ff\">LSTM</span>)           │ (<span style=\"color: #00d7ff; text-decoration-color: #00d7ff\">None</span>, <span style=\"color: #00af00; text-decoration-color: #00af00\">5</span>, <span style=\"color: #00af00; text-decoration-color: #00af00\">16</span>)          │         <span style=\"color: #00af00; text-decoration-color: #00af00\">2,112</span> │\n",
       "├─────────────────────────────────┼────────────────────────┼───────────────┤\n",
       "│ dropout_layer_1 (<span style=\"color: #0087ff; text-decoration-color: #0087ff\">Dropout</span>)       │ (<span style=\"color: #00d7ff; text-decoration-color: #00d7ff\">None</span>, <span style=\"color: #00af00; text-decoration-color: #00af00\">5</span>, <span style=\"color: #00af00; text-decoration-color: #00af00\">16</span>)          │             <span style=\"color: #00af00; text-decoration-color: #00af00\">0</span> │\n",
       "├─────────────────────────────────┼────────────────────────┼───────────────┤\n",
       "│ last_hidden_layer (<span style=\"color: #0087ff; text-decoration-color: #0087ff\">LSTM</span>)        │ (<span style=\"color: #00d7ff; text-decoration-color: #00d7ff\">None</span>, <span style=\"color: #00af00; text-decoration-color: #00af00\">8</span>)              │           <span style=\"color: #00af00; text-decoration-color: #00af00\">800</span> │\n",
       "├─────────────────────────────────┼────────────────────────┼───────────────┤\n",
       "│ last_dropout_layer_ (<span style=\"color: #0087ff; text-decoration-color: #0087ff\">Dropout</span>)   │ (<span style=\"color: #00d7ff; text-decoration-color: #00d7ff\">None</span>, <span style=\"color: #00af00; text-decoration-color: #00af00\">8</span>)              │             <span style=\"color: #00af00; text-decoration-color: #00af00\">0</span> │\n",
       "├─────────────────────────────────┼────────────────────────┼───────────────┤\n",
       "│ output_layer (<span style=\"color: #0087ff; text-decoration-color: #0087ff\">Dense</span>)            │ (<span style=\"color: #00d7ff; text-decoration-color: #00d7ff\">None</span>, <span style=\"color: #00af00; text-decoration-color: #00af00\">3</span>)              │            <span style=\"color: #00af00; text-decoration-color: #00af00\">27</span> │\n",
       "└─────────────────────────────────┴────────────────────────┴───────────────┘\n",
       "</pre>\n"
      ],
      "text/plain": [
       "┏━━━━━━━━━━━━━━━━━━━━━━━━━━━━━━━━━┳━━━━━━━━━━━━━━━━━━━━━━━━┳━━━━━━━━━━━━━━━┓\n",
       "┃\u001b[1m \u001b[0m\u001b[1mLayer (type)                   \u001b[0m\u001b[1m \u001b[0m┃\u001b[1m \u001b[0m\u001b[1mOutput Shape          \u001b[0m\u001b[1m \u001b[0m┃\u001b[1m \u001b[0m\u001b[1m      Param #\u001b[0m\u001b[1m \u001b[0m┃\n",
       "┡━━━━━━━━━━━━━━━━━━━━━━━━━━━━━━━━━╇━━━━━━━━━━━━━━━━━━━━━━━━╇━━━━━━━━━━━━━━━┩\n",
       "│ input_layer_0 (\u001b[38;5;33mLSTM\u001b[0m)            │ (\u001b[38;5;45mNone\u001b[0m, \u001b[38;5;34m5\u001b[0m, \u001b[38;5;34m32\u001b[0m)          │         \u001b[38;5;34m5,632\u001b[0m │\n",
       "├─────────────────────────────────┼────────────────────────┼───────────────┤\n",
       "│ hidden_layer_0 (\u001b[38;5;33mLSTM\u001b[0m)           │ (\u001b[38;5;45mNone\u001b[0m, \u001b[38;5;34m5\u001b[0m, \u001b[38;5;34m16\u001b[0m)          │         \u001b[38;5;34m3,136\u001b[0m │\n",
       "├─────────────────────────────────┼────────────────────────┼───────────────┤\n",
       "│ dropout_layer_0 (\u001b[38;5;33mDropout\u001b[0m)       │ (\u001b[38;5;45mNone\u001b[0m, \u001b[38;5;34m5\u001b[0m, \u001b[38;5;34m16\u001b[0m)          │             \u001b[38;5;34m0\u001b[0m │\n",
       "├─────────────────────────────────┼────────────────────────┼───────────────┤\n",
       "│ hidden_layer_1 (\u001b[38;5;33mLSTM\u001b[0m)           │ (\u001b[38;5;45mNone\u001b[0m, \u001b[38;5;34m5\u001b[0m, \u001b[38;5;34m16\u001b[0m)          │         \u001b[38;5;34m2,112\u001b[0m │\n",
       "├─────────────────────────────────┼────────────────────────┼───────────────┤\n",
       "│ dropout_layer_1 (\u001b[38;5;33mDropout\u001b[0m)       │ (\u001b[38;5;45mNone\u001b[0m, \u001b[38;5;34m5\u001b[0m, \u001b[38;5;34m16\u001b[0m)          │             \u001b[38;5;34m0\u001b[0m │\n",
       "├─────────────────────────────────┼────────────────────────┼───────────────┤\n",
       "│ last_hidden_layer (\u001b[38;5;33mLSTM\u001b[0m)        │ (\u001b[38;5;45mNone\u001b[0m, \u001b[38;5;34m8\u001b[0m)              │           \u001b[38;5;34m800\u001b[0m │\n",
       "├─────────────────────────────────┼────────────────────────┼───────────────┤\n",
       "│ last_dropout_layer_ (\u001b[38;5;33mDropout\u001b[0m)   │ (\u001b[38;5;45mNone\u001b[0m, \u001b[38;5;34m8\u001b[0m)              │             \u001b[38;5;34m0\u001b[0m │\n",
       "├─────────────────────────────────┼────────────────────────┼───────────────┤\n",
       "│ output_layer (\u001b[38;5;33mDense\u001b[0m)            │ (\u001b[38;5;45mNone\u001b[0m, \u001b[38;5;34m3\u001b[0m)              │            \u001b[38;5;34m27\u001b[0m │\n",
       "└─────────────────────────────────┴────────────────────────┴───────────────┘\n"
      ]
     },
     "metadata": {},
     "output_type": "display_data"
    },
    {
     "data": {
      "text/html": [
       "<pre style=\"white-space:pre;overflow-x:auto;line-height:normal;font-family:Menlo,'DejaVu Sans Mono',consolas,'Courier New',monospace\"><span style=\"font-weight: bold\"> Total params: </span><span style=\"color: #00af00; text-decoration-color: #00af00\">35,123</span> (137.20 KB)\n",
       "</pre>\n"
      ],
      "text/plain": [
       "\u001b[1m Total params: \u001b[0m\u001b[38;5;34m35,123\u001b[0m (137.20 KB)\n"
      ]
     },
     "metadata": {},
     "output_type": "display_data"
    },
    {
     "data": {
      "text/html": [
       "<pre style=\"white-space:pre;overflow-x:auto;line-height:normal;font-family:Menlo,'DejaVu Sans Mono',consolas,'Courier New',monospace\"><span style=\"font-weight: bold\"> Trainable params: </span><span style=\"color: #00af00; text-decoration-color: #00af00\">11,707</span> (45.73 KB)\n",
       "</pre>\n"
      ],
      "text/plain": [
       "\u001b[1m Trainable params: \u001b[0m\u001b[38;5;34m11,707\u001b[0m (45.73 KB)\n"
      ]
     },
     "metadata": {},
     "output_type": "display_data"
    },
    {
     "data": {
      "text/html": [
       "<pre style=\"white-space:pre;overflow-x:auto;line-height:normal;font-family:Menlo,'DejaVu Sans Mono',consolas,'Courier New',monospace\"><span style=\"font-weight: bold\"> Non-trainable params: </span><span style=\"color: #00af00; text-decoration-color: #00af00\">0</span> (0.00 B)\n",
       "</pre>\n"
      ],
      "text/plain": [
       "\u001b[1m Non-trainable params: \u001b[0m\u001b[38;5;34m0\u001b[0m (0.00 B)\n"
      ]
     },
     "metadata": {},
     "output_type": "display_data"
    },
    {
     "data": {
      "text/html": [
       "<pre style=\"white-space:pre;overflow-x:auto;line-height:normal;font-family:Menlo,'DejaVu Sans Mono',consolas,'Courier New',monospace\"><span style=\"font-weight: bold\"> Optimizer params: </span><span style=\"color: #00af00; text-decoration-color: #00af00\">23,416</span> (91.47 KB)\n",
       "</pre>\n"
      ],
      "text/plain": [
       "\u001b[1m Optimizer params: \u001b[0m\u001b[38;5;34m23,416\u001b[0m (91.47 KB)\n"
      ]
     },
     "metadata": {},
     "output_type": "display_data"
    }
   ],
   "source": [
    "model_1 = load_model(f\"model_experiments/{\"model_1\"}.keras\")\n",
    "model_1.summary()"
   ]
  },
  {
   "cell_type": "code",
   "execution_count": 3154,
   "id": "aaa7b418-5194-4752-8229-d04bdbff50bc",
   "metadata": {},
   "outputs": [
    {
     "data": {
      "image/png": "[encoded data removed]",
      "text/plain": [
       "<Figure size 1500x400 with 1 Axes>"
      ]
     },
     "metadata": {},
     "output_type": "display_data"
    }
   ],
   "source": [
    "pd.DataFrame(history_model_1.history)[[\"loss\", \"val_loss\"]].plot(figsize=(15, 4))\n",
    "plt.title(\"Learning Curves Model 1\", fontsize=20)\n",
    "plt.xlabel(\"Epochs\", fontsize=15)\n",
    "plt.ylabel(\"Loss\", fontsize=15)\n",
    "plt.show()"
   ]
  },
  {
   "cell_type": "code",
   "execution_count": 3156,
   "id": "d05964d8-15ac-442a-9926-75a79ae6bdc3",
   "metadata": {},
   "outputs": [
    {
     "name": "stdout",
     "output_type": "stream",
     "text": [
      "\u001b[1m36/36\u001b[0m \u001b[32m━━━━━━━━━━━━━━━━━━━━\u001b[0m\u001b[37m\u001b[0m \u001b[1m1s\u001b[0m 5ms/step - accuracy: 0.5148 - loss: 0.7232\n"
     ]
    },
    {
     "data": {
      "text/plain": [
       "[0.7240732312202454, 0.5144598484039307]"
      ]
     },
     "execution_count": 3156,
     "metadata": {},
     "output_type": "execute_result"
    }
   ],
   "source": [
    "# Evaluating the model\n",
    "model_1.evaluate(test_dataset)"
   ]
  },
  {
   "cell_type": "markdown",
   "id": "be1635e4-f3da-4e25-9c84-9f5654443c71",
   "metadata": {},
   "source": [
    "**Making predictions**"
   ]
  },
  {
   "cell_type": "code",
   "execution_count": 3157,
   "id": "d9348690-1d48-4a5e-b1e2-473052ef557a",
   "metadata": {},
   "outputs": [
    {
     "name": "stdout",
     "output_type": "stream",
     "text": [
      "\u001b[1m283/283\u001b[0m \u001b[32m━━━━━━━━━━━━━━━━━━━━\u001b[0m\u001b[37m\u001b[0m \u001b[1m2s\u001b[0m 5ms/step\n"
     ]
    }
   ],
   "source": [
    "model_1_pred = model_1.predict(X_test_3d)"
   ]
  },
  {
   "cell_type": "code",
   "execution_count": 3159,
   "id": "d7c57769-49b3-4587-b1d6-6e61839d7fde",
   "metadata": {},
   "outputs": [
    {
     "data": {
      "text/plain": [
       "(9025, 3)"
      ]
     },
     "execution_count": 3159,
     "metadata": {},
     "output_type": "execute_result"
    }
   ],
   "source": [
    "# Showing the shape of the predictions outcome\n",
    "model_1_pred.shape"
   ]
  },
  {
   "cell_type": "code",
   "execution_count": 3160,
   "id": "3eab3a8a-35e1-4e7e-b9e9-56f37355cf53",
   "metadata": {},
   "outputs": [
    {
     "data": {
      "text/html": [
       "<div>\n",
       "<style scoped>\n",
       "    .dataframe tbody tr th:only-of-type {\n",
       "        vertical-align: middle;\n",
       "    }\n",
       "\n",
       "    .dataframe tbody tr th {\n",
       "        vertical-align: top;\n",
       "    }\n",
       "\n",
       "    .dataframe thead th {\n",
       "        text-align: right;\n",
       "    }\n",
       "</style>\n",
       "<table border=\"1\" class=\"dataframe\">\n",
       "  <thead>\n",
       "    <tr style=\"text-align: right;\">\n",
       "      <th></th>\n",
       "      <th>0</th>\n",
       "      <th>1</th>\n",
       "      <th>2</th>\n",
       "    </tr>\n",
       "  </thead>\n",
       "  <tbody>\n",
       "    <tr>\n",
       "      <th>0</th>\n",
       "      <td>0.483299</td>\n",
       "      <td>0.013278</td>\n",
       "      <td>0.503423</td>\n",
       "    </tr>\n",
       "    <tr>\n",
       "      <th>1</th>\n",
       "      <td>0.483289</td>\n",
       "      <td>0.013277</td>\n",
       "      <td>0.503433</td>\n",
       "    </tr>\n",
       "    <tr>\n",
       "      <th>2</th>\n",
       "      <td>0.483250</td>\n",
       "      <td>0.013278</td>\n",
       "      <td>0.503472</td>\n",
       "    </tr>\n",
       "    <tr>\n",
       "      <th>3</th>\n",
       "      <td>0.483199</td>\n",
       "      <td>0.013279</td>\n",
       "      <td>0.503522</td>\n",
       "    </tr>\n",
       "    <tr>\n",
       "      <th>4</th>\n",
       "      <td>0.483206</td>\n",
       "      <td>0.013277</td>\n",
       "      <td>0.503517</td>\n",
       "    </tr>\n",
       "    <tr>\n",
       "      <th>...</th>\n",
       "      <td>...</td>\n",
       "      <td>...</td>\n",
       "      <td>...</td>\n",
       "    </tr>\n",
       "    <tr>\n",
       "      <th>9020</th>\n",
       "      <td>0.483316</td>\n",
       "      <td>0.013269</td>\n",
       "      <td>0.503415</td>\n",
       "    </tr>\n",
       "    <tr>\n",
       "      <th>9021</th>\n",
       "      <td>0.483328</td>\n",
       "      <td>0.013272</td>\n",
       "      <td>0.503400</td>\n",
       "    </tr>\n",
       "    <tr>\n",
       "      <th>9022</th>\n",
       "      <td>0.483303</td>\n",
       "      <td>0.013274</td>\n",
       "      <td>0.503424</td>\n",
       "    </tr>\n",
       "    <tr>\n",
       "      <th>9023</th>\n",
       "      <td>0.483263</td>\n",
       "      <td>0.013274</td>\n",
       "      <td>0.503463</td>\n",
       "    </tr>\n",
       "    <tr>\n",
       "      <th>9024</th>\n",
       "      <td>0.483308</td>\n",
       "      <td>0.013274</td>\n",
       "      <td>0.503418</td>\n",
       "    </tr>\n",
       "  </tbody>\n",
       "</table>\n",
       "<p>9025 rows × 3 columns</p>\n",
       "</div>"
      ],
      "text/plain": [
       "             0         1         2\n",
       "0     0.483299  0.013278  0.503423\n",
       "1     0.483289  0.013277  0.503433\n",
       "2     0.483250  0.013278  0.503472\n",
       "3     0.483199  0.013279  0.503522\n",
       "4     0.483206  0.013277  0.503517\n",
       "...        ...       ...       ...\n",
       "9020  0.483316  0.013269  0.503415\n",
       "9021  0.483328  0.013272  0.503400\n",
       "9022  0.483303  0.013274  0.503424\n",
       "9023  0.483263  0.013274  0.503463\n",
       "9024  0.483308  0.013274  0.503418\n",
       "\n",
       "[9025 rows x 3 columns]"
      ]
     },
     "execution_count": 3160,
     "metadata": {},
     "output_type": "execute_result"
    }
   ],
   "source": [
    "# Showeing the predictions probabilites\n",
    "pd.DataFrame(model_1_pred)"
   ]
  },
  {
   "cell_type": "markdown",
   "id": "18726a2d-4f37-4607-90e1-029abc436182",
   "metadata": {},
   "source": [
    "**Transforming predictions (probabilities) into positions**"
   ]
  },
  {
   "cell_type": "code",
   "execution_count": 3161,
   "id": "7a32d802-d643-4767-9f2b-33b5d251a06c",
   "metadata": {},
   "outputs": [
    {
     "data": {
      "text/plain": [
       "0\n",
       "1    9025\n",
       "Name: count, dtype: int64"
      ]
     },
     "execution_count": 3161,
     "metadata": {},
     "output_type": "execute_result"
    }
   ],
   "source": [
    "# Getting the predicted class index (e.g., 0, 1, or 2)\n",
    "predicted_class_indices = np.argmax(model_1_pred, axis=1)\n",
    "# Corrected mapping from model output indices to original labels\n",
    "index_to_label = {0: -1, 1: 0, 2: 1}\n",
    "\n",
    "# Predicted_class_indices is the output of np.argmax on model predictions\n",
    "predicted_labels = [index_to_label[idx] for idx in predicted_class_indices]\n",
    "pd.DataFrame(predicted_labels).value_counts()"
   ]
  },
  {
   "cell_type": "code",
   "execution_count": 3318,
   "id": "654284a8-d371-46ac-a1de-05919f9fc642",
   "metadata": {},
   "outputs": [
    {
     "data": {
      "text/html": [
       "<div>\n",
       "<style scoped>\n",
       "    .dataframe tbody tr th:only-of-type {\n",
       "        vertical-align: middle;\n",
       "    }\n",
       "\n",
       "    .dataframe tbody tr th {\n",
       "        vertical-align: top;\n",
       "    }\n",
       "\n",
       "    .dataframe thead th {\n",
       "        text-align: right;\n",
       "    }\n",
       "</style>\n",
       "<table border=\"1\" class=\"dataframe\">\n",
       "  <thead>\n",
       "    <tr style=\"text-align: right;\">\n",
       "      <th></th>\n",
       "      <th>prediction</th>\n",
       "    </tr>\n",
       "  </thead>\n",
       "  <tbody>\n",
       "    <tr>\n",
       "      <th>0</th>\n",
       "      <td>1</td>\n",
       "    </tr>\n",
       "    <tr>\n",
       "      <th>1</th>\n",
       "      <td>1</td>\n",
       "    </tr>\n",
       "    <tr>\n",
       "      <th>2</th>\n",
       "      <td>1</td>\n",
       "    </tr>\n",
       "    <tr>\n",
       "      <th>3</th>\n",
       "      <td>1</td>\n",
       "    </tr>\n",
       "    <tr>\n",
       "      <th>4</th>\n",
       "      <td>1</td>\n",
       "    </tr>\n",
       "  </tbody>\n",
       "</table>\n",
       "</div>"
      ],
      "text/plain": [
       "   prediction\n",
       "0           1\n",
       "1           1\n",
       "2           1\n",
       "3           1\n",
       "4           1"
      ]
     },
     "execution_count": 3318,
     "metadata": {},
     "output_type": "execute_result"
    }
   ],
   "source": [
    "predicted_labels_df = pd.DataFrame(predicted_labels, columns=[\"prediction\"])\n",
    "predicted_labels_df.head()"
   ]
  },
  {
   "cell_type": "code",
   "execution_count": 3322,
   "id": "7aeb073e-fba2-4e8c-ae00-13b1b5de9773",
   "metadata": {},
   "outputs": [
    {
     "data": {
      "text/html": [
       "<div>\n",
       "<style scoped>\n",
       "    .dataframe tbody tr th:only-of-type {\n",
       "        vertical-align: middle;\n",
       "    }\n",
       "\n",
       "    .dataframe tbody tr th {\n",
       "        vertical-align: top;\n",
       "    }\n",
       "\n",
       "    .dataframe thead th {\n",
       "        text-align: right;\n",
       "    }\n",
       "</style>\n",
       "<table border=\"1\" class=\"dataframe\">\n",
       "  <thead>\n",
       "    <tr style=\"text-align: right;\">\n",
       "      <th></th>\n",
       "      <th>pct_change</th>\n",
       "    </tr>\n",
       "    <tr>\n",
       "      <th>time</th>\n",
       "      <th></th>\n",
       "    </tr>\n",
       "  </thead>\n",
       "  <tbody>\n",
       "    <tr>\n",
       "      <th>2023-04-03 19:00:00</th>\n",
       "      <td>0.000710</td>\n",
       "    </tr>\n",
       "    <tr>\n",
       "      <th>2023-04-03 20:00:00</th>\n",
       "      <td>0.000068</td>\n",
       "    </tr>\n",
       "    <tr>\n",
       "      <th>2023-04-03 21:00:00</th>\n",
       "      <td>-0.000785</td>\n",
       "    </tr>\n",
       "    <tr>\n",
       "      <th>2023-04-03 22:00:00</th>\n",
       "      <td>0.000672</td>\n",
       "    </tr>\n",
       "    <tr>\n",
       "      <th>2023-04-03 23:00:00</th>\n",
       "      <td>-0.000332</td>\n",
       "    </tr>\n",
       "    <tr>\n",
       "      <th>...</th>\n",
       "      <td>...</td>\n",
       "    </tr>\n",
       "    <tr>\n",
       "      <th>2024-09-13 19:00:00</th>\n",
       "      <td>0.001038</td>\n",
       "    </tr>\n",
       "    <tr>\n",
       "      <th>2024-09-13 20:00:00</th>\n",
       "      <td>0.000689</td>\n",
       "    </tr>\n",
       "    <tr>\n",
       "      <th>2024-09-13 21:00:00</th>\n",
       "      <td>0.000142</td>\n",
       "    </tr>\n",
       "    <tr>\n",
       "      <th>2024-09-13 22:00:00</th>\n",
       "      <td>0.000014</td>\n",
       "    </tr>\n",
       "    <tr>\n",
       "      <th>2024-09-13 23:00:00</th>\n",
       "      <td>-0.000341</td>\n",
       "    </tr>\n",
       "  </tbody>\n",
       "</table>\n",
       "<p>9030 rows × 1 columns</p>\n",
       "</div>"
      ],
      "text/plain": [
       "                     pct_change\n",
       "time                           \n",
       "2023-04-03 19:00:00    0.000710\n",
       "2023-04-03 20:00:00    0.000068\n",
       "2023-04-03 21:00:00   -0.000785\n",
       "2023-04-03 22:00:00    0.000672\n",
       "2023-04-03 23:00:00   -0.000332\n",
       "...                         ...\n",
       "2024-09-13 19:00:00    0.001038\n",
       "2024-09-13 20:00:00    0.000689\n",
       "2024-09-13 21:00:00    0.000142\n",
       "2024-09-13 22:00:00    0.000014\n",
       "2024-09-13 23:00:00   -0.000341\n",
       "\n",
       "[9030 rows x 1 columns]"
      ]
     },
     "execution_count": 3322,
     "metadata": {},
     "output_type": "execute_result"
    }
   ],
   "source": [
    "# The original targets dataset has 9030 rows, since the lag used to make 3D data set is 5, it's required \n",
    "# to removed those firts 5 rows to match the amout of the predictions output for further analysis\n",
    "pd.DataFrame(y_test)"
   ]
  },
  {
   "cell_type": "code",
   "execution_count": 3330,
   "id": "6ca40204-a067-4898-a1cf-48e69728d113",
   "metadata": {},
   "outputs": [
    {
     "data": {
      "text/html": [
       "<div>\n",
       "<style scoped>\n",
       "    .dataframe tbody tr th:only-of-type {\n",
       "        vertical-align: middle;\n",
       "    }\n",
       "\n",
       "    .dataframe tbody tr th {\n",
       "        vertical-align: top;\n",
       "    }\n",
       "\n",
       "    .dataframe thead th {\n",
       "        text-align: right;\n",
       "    }\n",
       "</style>\n",
       "<table border=\"1\" class=\"dataframe\">\n",
       "  <thead>\n",
       "    <tr style=\"text-align: right;\">\n",
       "      <th></th>\n",
       "      <th>pct_change</th>\n",
       "      <th>prediction</th>\n",
       "      <th>real_position</th>\n",
       "      <th>pred_position</th>\n",
       "      <th>returns</th>\n",
       "    </tr>\n",
       "    <tr>\n",
       "      <th>time</th>\n",
       "      <th></th>\n",
       "      <th></th>\n",
       "      <th></th>\n",
       "      <th></th>\n",
       "      <th></th>\n",
       "    </tr>\n",
       "  </thead>\n",
       "  <tbody>\n",
       "    <tr>\n",
       "      <th>2023-04-04 00:00:00</th>\n",
       "      <td>0.000053</td>\n",
       "      <td>1</td>\n",
       "      <td>1.0</td>\n",
       "      <td>1</td>\n",
       "      <td>0.000053</td>\n",
       "    </tr>\n",
       "    <tr>\n",
       "      <th>2023-04-04 01:00:00</th>\n",
       "      <td>-0.000446</td>\n",
       "      <td>1</td>\n",
       "      <td>-1.0</td>\n",
       "      <td>1</td>\n",
       "      <td>-0.000446</td>\n",
       "    </tr>\n",
       "    <tr>\n",
       "      <th>2023-04-04 02:00:00</th>\n",
       "      <td>-0.000227</td>\n",
       "      <td>1</td>\n",
       "      <td>-1.0</td>\n",
       "      <td>1</td>\n",
       "      <td>-0.000227</td>\n",
       "    </tr>\n",
       "    <tr>\n",
       "      <th>2023-04-04 03:00:00</th>\n",
       "      <td>0.001769</td>\n",
       "      <td>1</td>\n",
       "      <td>1.0</td>\n",
       "      <td>1</td>\n",
       "      <td>0.001769</td>\n",
       "    </tr>\n",
       "    <tr>\n",
       "      <th>2023-04-04 04:00:00</th>\n",
       "      <td>0.001728</td>\n",
       "      <td>1</td>\n",
       "      <td>1.0</td>\n",
       "      <td>1</td>\n",
       "      <td>0.001728</td>\n",
       "    </tr>\n",
       "    <tr>\n",
       "      <th>...</th>\n",
       "      <td>...</td>\n",
       "      <td>...</td>\n",
       "      <td>...</td>\n",
       "      <td>...</td>\n",
       "      <td>...</td>\n",
       "    </tr>\n",
       "    <tr>\n",
       "      <th>2024-09-13 19:00:00</th>\n",
       "      <td>0.001038</td>\n",
       "      <td>1</td>\n",
       "      <td>1.0</td>\n",
       "      <td>1</td>\n",
       "      <td>0.001038</td>\n",
       "    </tr>\n",
       "    <tr>\n",
       "      <th>2024-09-13 20:00:00</th>\n",
       "      <td>0.000689</td>\n",
       "      <td>1</td>\n",
       "      <td>1.0</td>\n",
       "      <td>1</td>\n",
       "      <td>0.000689</td>\n",
       "    </tr>\n",
       "    <tr>\n",
       "      <th>2024-09-13 21:00:00</th>\n",
       "      <td>0.000142</td>\n",
       "      <td>1</td>\n",
       "      <td>1.0</td>\n",
       "      <td>1</td>\n",
       "      <td>0.000142</td>\n",
       "    </tr>\n",
       "    <tr>\n",
       "      <th>2024-09-13 22:00:00</th>\n",
       "      <td>0.000014</td>\n",
       "      <td>1</td>\n",
       "      <td>1.0</td>\n",
       "      <td>1</td>\n",
       "      <td>0.000014</td>\n",
       "    </tr>\n",
       "    <tr>\n",
       "      <th>2024-09-13 23:00:00</th>\n",
       "      <td>-0.000341</td>\n",
       "      <td>1</td>\n",
       "      <td>-1.0</td>\n",
       "      <td>1</td>\n",
       "      <td>-0.000341</td>\n",
       "    </tr>\n",
       "  </tbody>\n",
       "</table>\n",
       "<p>9025 rows × 5 columns</p>\n",
       "</div>"
      ],
      "text/plain": [
       "                     pct_change  prediction  real_position  pred_position  \\\n",
       "time                                                                        \n",
       "2023-04-04 00:00:00    0.000053           1            1.0              1   \n",
       "2023-04-04 01:00:00   -0.000446           1           -1.0              1   \n",
       "2023-04-04 02:00:00   -0.000227           1           -1.0              1   \n",
       "2023-04-04 03:00:00    0.001769           1            1.0              1   \n",
       "2023-04-04 04:00:00    0.001728           1            1.0              1   \n",
       "...                         ...         ...            ...            ...   \n",
       "2024-09-13 19:00:00    0.001038           1            1.0              1   \n",
       "2024-09-13 20:00:00    0.000689           1            1.0              1   \n",
       "2024-09-13 21:00:00    0.000142           1            1.0              1   \n",
       "2024-09-13 22:00:00    0.000014           1            1.0              1   \n",
       "2024-09-13 23:00:00   -0.000341           1           -1.0              1   \n",
       "\n",
       "                      returns  \n",
       "time                           \n",
       "2023-04-04 00:00:00  0.000053  \n",
       "2023-04-04 01:00:00 -0.000446  \n",
       "2023-04-04 02:00:00 -0.000227  \n",
       "2023-04-04 03:00:00  0.001769  \n",
       "2023-04-04 04:00:00  0.001728  \n",
       "...                       ...  \n",
       "2024-09-13 19:00:00  0.001038  \n",
       "2024-09-13 20:00:00  0.000689  \n",
       "2024-09-13 21:00:00  0.000142  \n",
       "2024-09-13 22:00:00  0.000014  \n",
       "2024-09-13 23:00:00 -0.000341  \n",
       "\n",
       "[9025 rows x 5 columns]"
      ]
     },
     "execution_count": 3330,
     "metadata": {},
     "output_type": "execute_result"
    }
   ],
   "source": [
    "# DataFrame comparing actual target values with predicted positions.\n",
    "# The first 5 rows of y_test are excluded to match the length of predicted_labels_df, ensuring proper alignment for comparison.\n",
    "returns_model_1 = backtest.compute_strategy_returns(y_test[5:], predicted_labels_df.values)\n",
    "returns_model_1"
   ]
  },
  {
   "cell_type": "markdown",
   "id": "83d86eff-246a-4fcf-8d15-a86a4ec51f68",
   "metadata": {},
   "source": [
    "**Plotting the Cumulative Returns from Model 1**"
   ]
  },
  {
   "cell_type": "code",
   "execution_count": 3336,
   "id": "3141fa01-ef78-45bd-8b3d-14db997ca05c",
   "metadata": {},
   "outputs": [
    {
     "name": "stdout",
     "output_type": "stream",
     "text": [
      "Profits : 6.87%\n"
     ]
    },
    {
     "data": {
      "image/png": "[encoded data removed]",
      "text/plain": [
       "<Figure size 1500x500 with 1 Axes>"
      ]
     },
     "metadata": {},
     "output_type": "display_data"
    }
   ],
   "source": [
    "display.plot_test_returns(returns_model_1[\"returns\"])"
   ]
  },
  {
   "cell_type": "markdown",
   "id": "46dcca5c-30dc-4191-bac0-ecffd00cb62a",
   "metadata": {},
   "source": [
    "**Forecast Accuracy Analysis for Model 1**\n",
    "\n",
    "Predicted vs. Real Positions"
   ]
  },
  {
   "cell_type": "code",
   "execution_count": 3176,
   "id": "eb1eb62c-e30d-4ab2-a805-c23d24a419ba",
   "metadata": {},
   "outputs": [
    {
     "name": "stdout",
     "output_type": "stream",
     "text": [
      "Counts of 0 indicate instances where the predicted position did not match the real position.\n",
      "Counts of 1 indicate instances where the predicted position matched the real position.\n",
      "\n",
      "accuracy\n",
      "1    4643\n",
      "0    4382\n",
      "Name: count, dtype: int64\n",
      "\n",
      "Model has an accuracy of: 51.45%\n"
     ]
    },
    {
     "data": {
      "image/png": "[encoded data removed]",
      "text/plain": [
       "<Figure size 640x480 with 1 Axes>"
      ]
     },
     "metadata": {},
     "output_type": "display_data"
    },
    {
     "data": {
      "text/html": [
       "<div>\n",
       "<style scoped>\n",
       "    .dataframe tbody tr th:only-of-type {\n",
       "        vertical-align: middle;\n",
       "    }\n",
       "\n",
       "    .dataframe tbody tr th {\n",
       "        vertical-align: top;\n",
       "    }\n",
       "\n",
       "    .dataframe thead th {\n",
       "        text-align: right;\n",
       "    }\n",
       "</style>\n",
       "<table border=\"1\" class=\"dataframe\">\n",
       "  <thead>\n",
       "    <tr style=\"text-align: right;\">\n",
       "      <th></th>\n",
       "      <th>real_position</th>\n",
       "      <th>pred_position</th>\n",
       "      <th>accuracy</th>\n",
       "    </tr>\n",
       "    <tr>\n",
       "      <th>time</th>\n",
       "      <th></th>\n",
       "      <th></th>\n",
       "      <th></th>\n",
       "    </tr>\n",
       "  </thead>\n",
       "  <tbody>\n",
       "    <tr>\n",
       "      <th>2023-04-04 00:00:00</th>\n",
       "      <td>1.0</td>\n",
       "      <td>1</td>\n",
       "      <td>1</td>\n",
       "    </tr>\n",
       "    <tr>\n",
       "      <th>2023-04-04 01:00:00</th>\n",
       "      <td>-1.0</td>\n",
       "      <td>1</td>\n",
       "      <td>0</td>\n",
       "    </tr>\n",
       "    <tr>\n",
       "      <th>2023-04-04 02:00:00</th>\n",
       "      <td>-1.0</td>\n",
       "      <td>1</td>\n",
       "      <td>0</td>\n",
       "    </tr>\n",
       "    <tr>\n",
       "      <th>2023-04-04 03:00:00</th>\n",
       "      <td>1.0</td>\n",
       "      <td>1</td>\n",
       "      <td>1</td>\n",
       "    </tr>\n",
       "    <tr>\n",
       "      <th>2023-04-04 04:00:00</th>\n",
       "      <td>1.0</td>\n",
       "      <td>1</td>\n",
       "      <td>1</td>\n",
       "    </tr>\n",
       "  </tbody>\n",
       "</table>\n",
       "</div>"
      ],
      "text/plain": [
       "                     real_position  pred_position  accuracy\n",
       "time                                                       \n",
       "2023-04-04 00:00:00            1.0              1         1\n",
       "2023-04-04 01:00:00           -1.0              1         0\n",
       "2023-04-04 02:00:00           -1.0              1         0\n",
       "2023-04-04 03:00:00            1.0              1         1\n",
       "2023-04-04 04:00:00            1.0              1         1"
      ]
     },
     "execution_count": 3176,
     "metadata": {},
     "output_type": "execute_result"
    }
   ],
   "source": [
    "backtest.compute_model_accuracy(returns_model_1[\"real_position\"], returns_model_1[\"pred_position\"])"
   ]
  },
  {
   "cell_type": "markdown",
   "id": "62978052-4c78-4587-9111-000404050fc3",
   "metadata": {},
   "source": [
    "**Confusion Matrix**"
   ]
  },
  {
   "cell_type": "code",
   "execution_count": 3340,
   "id": "00de82c2-2ff2-4b1d-a9bc-42840dd30bd6",
   "metadata": {},
   "outputs": [],
   "source": [
    "from sklearn.metrics import confusion_matrix"
   ]
  },
  {
   "cell_type": "code",
   "execution_count": 3344,
   "id": "becdeae8-a88e-4b0c-a4b2-518ef5eb7e11",
   "metadata": {},
   "outputs": [
    {
     "data": {
      "text/plain": [
       "array([[   0,    0, 4337],\n",
       "       [   0,    0,   45],\n",
       "       [   0,    0, 4643]], dtype=int64)"
      ]
     },
     "execution_count": 3344,
     "metadata": {},
     "output_type": "execute_result"
    }
   ],
   "source": [
    "# We can see the model has only predicted up direction in the price movement which means the model is not performing well\n",
    "confusion_matrix(returns_model_1[\"real_position\"], returns_model_1[\"pred_position\"])"
   ]
  },
  {
   "cell_type": "code",
   "execution_count": null,
   "id": "50f62f83-c3c9-4e67-b005-fec21226bf4b",
   "metadata": {},
   "outputs": [],
   "source": []
  }
 ],
 "metadata": {
  "kernelspec": {
   "display_name": "Python 3 (ipykernel)",
   "language": "python",
   "name": "python3"
  },
  "language_info": {
   "codemirror_mode": {
    "name": "ipython",
    "version": 3
   },
   "file_extension": ".py",
   "mimetype": "text/x-python",
   "name": "python",
   "nbconvert_exporter": "python",
   "pygments_lexer": "ipython3",
   "version": "3.12.4"
  }
 },
 "nbformat": 4,
 "nbformat_minor": 5
}
